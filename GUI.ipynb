{
 "cells": [
  {
   "cell_type": "code",
   "execution_count": 1,
   "id": "d51a3b80-e67a-4637-a604-8058d40b0268",
   "metadata": {},
   "outputs": [],
   "source": [
    "from GUIV2 import SimuAMPGUI\n",
    "from GUI import SimuAMPGUI_debug"
   ]
  },
  {
   "cell_type": "code",
   "execution_count": null,
   "id": "3ef142d7-022f-4d0f-931d-f9907575501d",
   "metadata": {},
   "outputs": [
    {
     "name": "stderr",
     "output_type": "stream",
     "text": [
      "C:\\Users\\T0280520\\MyApp\\Python\\AMP-main\\misc.py:133: UserWarning: FigureCanvasAgg is non-interactive, and thus cannot be shown\n",
      "  plt.show()\n",
      "C:\\Users\\T0280520\\MyApp\\Python\\AMP-main\\misc.py:150: UserWarning: FigureCanvasAgg is non-interactive, and thus cannot be shown\n",
      "  plt.show()\n"
     ]
    }
   ],
   "source": [
    "SimuAMPGUI()"
   ]
  },
  {
   "cell_type": "code",
   "execution_count": null,
   "id": "73c1e513-efe6-45b4-8dec-06792b91e05d",
   "metadata": {},
   "outputs": [],
   "source": []
  }
 ],
 "metadata": {
  "kernelspec": {
   "display_name": "Python 3 (ipykernel)",
   "language": "python",
   "name": "python3"
  },
  "language_info": {
   "codemirror_mode": {
    "name": "ipython",
    "version": 3
   },
   "file_extension": ".py",
   "mimetype": "text/x-python",
   "name": "python",
   "nbconvert_exporter": "python",
   "pygments_lexer": "ipython3",
   "version": "3.9.1"
  }
 },
 "nbformat": 4,
 "nbformat_minor": 5
}
