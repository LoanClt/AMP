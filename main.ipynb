{
 "cells": [
  {
   "cell_type": "code",
   "execution_count": 1,
   "id": "f0401aab-f6e2-4776-ae93-729ddc99010a",
   "metadata": {},
   "outputs": [],
   "source": [
    "import numpy as np\n",
    "import pandas as pd\n",
    "import matplotlib.pyplot as plt\n",
    "import json\n",
    "from prettytable import PrettyTable\n",
    "import scipy\n",
    "\n",
    "from update_config import update_config, update_coef_profil, update_param, update_bilan, update_result\n",
    "from simu_AMP import simu_AMP1, simu_AMP, bilan_puissance\n",
    "from error_checker import verification"
   ]
  },
  {
   "cell_type": "code",
   "execution_count": 2,
   "id": "a76647d2-2d2f-4844-9d5e-71ba39af198e",
   "metadata": {},
   "outputs": [],
   "source": [
    "FILE_NAME = \"200TW.json\"\n",
    "mode_graphique = False\n",
    "mode_information = True\n",
    "\n",
    "AMP_STAGES = 4\n",
    "\n",
    "update_bilan(FILE_NAME, \"OBJECTIF\", 352)"
   ]
  },
  {
   "cell_type": "code",
   "execution_count": 3,
   "id": "ac6c4280-6726-43db-9a50-3d7b88448ac9",
   "metadata": {},
   "outputs": [],
   "source": [
    "for i in range(2):\n",
    "    data = update_config(FILE_NAME, \"AMP1\")\n",
    "    update_coef_profil(FILE_NAME)\n",
    "N_POINT = 200"
   ]
  },
  {
   "cell_type": "code",
   "execution_count": 4,
   "id": "9b71a89c-a9a2-4739-8da2-b5fba25370da",
   "metadata": {},
   "outputs": [
    {
     "name": "stdout",
     "output_type": "stream",
     "text": [
      "+------------------------+--------+--------+--------+---------+---------+---------+---------+\n",
      "|        Passage         |   0    |   1    |   2    |    3    |    4    |    5    |    6    |\n",
      "+------------------------+--------+--------+--------+---------+---------+---------+---------+\n",
      "|       GAIN REEL        |   0    |  6.1   | 35.14  |  154.13 |  363.28 |  488.75 |  524.48 |\n",
      "|     EXTRACTION (%)     |  0.0   |  0.39  |  2.63  |  11.78  |  27.87  |  37.53  |  40.28  |\n",
      "|      ENERGIE (mJ)      |  0.05  |  0.33  |  1.89  |   8.3   |  19.57  |  26.32  |  28.25  |\n",
      "|   BARYCENTRE LC (nm)   | 801.71 | 801.02 | 800.81 |  802.23 |  805.42 |  807.3  |  807.68 |\n",
      "|      MAX LC (nm)       | 788.83 | 788.83 | 788.83 |  790.95 |  794.15 |  795.22 |  796.3  |\n",
      "| DeltaL MI HAUTEUR (nm) | 54.77  | 49.51  | 44.87  |  52.13  |  57.14  |  58.94  |  59.17  |\n",
      "|    FLUENCE (J/cm²)     |  0.0   |  0.02  |  0.1   |   0.43  |   1.02  |   1.37  |   1.48  |\n",
      "|  ECLAIREMENT (MW/cm²)  |  7.29  | 48.98  | 309.79 | 1182.03 | 2563.58 | 3355.31 | 3588.74 |\n",
      "|     SATURATION (%)     |  0.34  |  2.06  | 11.85  |  51.98  |  122.52 |  164.84 |  176.89 |\n",
      "|      DOMMAGE (%)       |  0.18  |  1.07  |  6.18  |   27.1  |  63.86  |  85.92  |   92.2  |\n",
      "|       DUREE (ps)       | 385.59 | 350.46 | 319.08 |  366.76 |  398.57 |  409.7  |  411.06 |\n",
      "+------------------------+--------+--------+--------+---------+---------+---------+---------+\n",
      "\n",
      "\n",
      "+------------------------+--------+--------+--------+---------+---------+---------+---------+\n",
      "|        Passage         |   0    |   1    |   2    |    3    |    4    |    5    |    6    |\n",
      "+------------------------+--------+--------+--------+---------+---------+---------+---------+\n",
      "|       GAIN REEL        |   0    |  2.36  | 10.81  |  34.51  |  62.26  |  75.49  |  79.21  |\n",
      "|     EXTRACTION (%)     |  0.0   |  0.71  |  5.17  |  17.64  |  32.25  |  39.22  |  41.18  |\n",
      "|      ENERGIE (mJ)      | 26.32  | 62.07  | 284.6  |  908.51 | 1638.99 | 1987.21 | 2085.11 |\n",
      "|   BARYCENTRE LC (nm)   | 800.15 | 799.71 | 799.98 |  801.88 |  804.38 |  805.48 |  805.64 |\n",
      "|      MAX LC (nm)       | 789.89 | 789.89 | 790.95 |  793.08 |  795.22 |  796.3  |  797.37 |\n",
      "| DeltaL MI HAUTEUR (nm) | 34.38  | 33.77  | 34.38  |  39.77  |  52.91  |  54.85  |  54.92  |\n",
      "|    FLUENCE (J/cm²)     |  0.01  |  0.04  |  0.18  |   0.59  |   1.06  |   1.29  |   1.35  |\n",
      "|  ECLAIREMENT (MW/cm²)  | 31.78  | 165.8  | 748.26 | 2083.49 | 2877.99 | 3377.84 | 3540.78 |\n",
      "|     SATURATION (%)     |  0.94  |  4.84  | 22.17  |  70.77  |  127.67 |  154.8  |  162.42 |\n",
      "|      DOMMAGE (%)       |  0.49  |  2.52  | 11.56  |  36.89  |  66.54  |  80.68  |  84.66  |\n",
      "|       DUREE (ps)       | 247.67 | 243.2  | 247.08 |  283.26 |  369.95 |  382.17 |  382.55 |\n",
      "+------------------------+--------+--------+--------+---------+---------+---------+---------+\n",
      "\n",
      "\n",
      "+------------------------+---------+---------+---------+---------+---------+---------+---------+\n",
      "|        Passage         |    0    |    1    |    2    |    3    |    4    |    5    |    6    |\n",
      "+------------------------+---------+---------+---------+---------+---------+---------+---------+\n",
      "|       GAIN REEL        |    0    |   2.33  |   3.51  |   4.05  |   4.22  |   4.27  |   4.28  |\n",
      "|     EXTRACTION (%)     |   0.0   |  17.68  |  33.32  |  40.41  |  42.65  |  43.27  |  43.44  |\n",
      "|      ENERGIE (mJ)      | 1987.21 | 4639.24 |  6984.8 | 8048.26 |  8384.4 | 8478.12 | 8503.88 |\n",
      "|   BARYCENTRE LC (nm)   |  805.48 |  807.39 |  809.16 |  809.89 |  810.02 |  809.96 |  809.84 |\n",
      "|      MAX LC (nm)       |  796.3  |  799.54 |  801.71 |  801.71 |  827.62 |  802.81 |  802.81 |\n",
      "| DeltaL MI HAUTEUR (nm) |  54.85  |  56.16  |  57.13  |  57.43  |  57.39  |  57.31  |  57.17  |\n",
      "|    FLUENCE (J/cm²)     |   0.28  |   0.66  |   0.99  |   1.14  |   1.19  |   1.2   |   1.2   |\n",
      "|  ECLAIREMENT (MW/cm²)  |  735.62 | 1684.64 | 2501.55 | 2870.83 | 2993.82 | 3031.18 | 3047.27 |\n",
      "|     SATURATION (%)     |  33.71  |   78.7  |  118.49 |  136.53 |  142.23 |  143.82 |  144.26 |\n",
      "|      DOMMAGE (%)       |  17.57  |  41.02  |  61.76  |  71.16  |  74.13  |  74.96  |  75.19  |\n",
      "|       DUREE (ps)       |  382.17 |  389.59 |  395.01 |  396.61 |  396.2  |  395.69 |  394.8  |\n",
      "+------------------------+---------+---------+---------+---------+---------+---------+---------+\n",
      "\n",
      "\n",
      "+------------------------+---------+----------+----------+----------+-----------+-----------+-----------+\n",
      "|        Passage         |    0    |    1     |    2     |    3     |     4     |     5     |     6     |\n",
      "+------------------------+---------+----------+----------+----------+-----------+-----------+-----------+\n",
      "|       GAIN REEL        |    0    |   2.2    |   6.41   |  11.04   |   13.28   |   13.96   |   14.14   |\n",
      "|     EXTRACTION (%)     |   0.0   |   3.59   |  16.14   |  29.92   |   36.61   |   38.64   |   39.16   |\n",
      "|      ENERGIE (mJ)      | 8048.26 | 17731.79 | 51615.98 | 88828.76 | 106893.37 | 112369.68 | 113785.29 |\n",
      "|   BARYCENTRE LC (nm)   |  807.51 |  807.63  |  809.57  |  811.99  |   813.06  |   813.23  |   813.11  |\n",
      "|      MAX LC (nm)       |  793.08 |  793.08  |  832.3   |  833.47  |   833.47  |   833.47  |   833.47  |\n",
      "| DeltaL MI HAUTEUR (nm) |  63.27  |  62.46   |  61.88   |  58.51   |   56.58   |   56.18   |   56.33   |\n",
      "|    FLUENCE (J/cm²)     |   0.05  |   0.2    |   0.6    |   1.03   |    1.23   |    1.3    |    1.31   |\n",
      "|  ECLAIREMENT (MW/cm²)  |  111.81 |  473.2   | 1394.47  | 2551.77  |  3184.55  |  3373.56  |  3406.13  |\n",
      "|     SATURATION (%)     |   5.88  |  24.56   |  71.48   |  123.01  |   148.03  |   155.61  |   157.57  |\n",
      "|      DOMMAGE (%)       |   3.06  |   12.8   |  37.26   |  64.12   |   77.15   |   81.11   |   82.13   |\n",
      "|       DUREE (ps)       |  438.53 |  432.75  |  427.47  |  402.02  |   387.64  |   384.67  |   385.79  |\n",
      "+------------------------+---------+----------+----------+----------+-----------+-----------+-----------+\n",
      "\n",
      "\n"
     ]
    }
   ],
   "source": [
    "L = simu_AMP1(FILE_NAME, N_POINT, mode_graphique, mode_information)\n",
    "\n",
    "for i in range(2, AMP_STAGES+1):\n",
    "    L = simu_AMP(FILE_NAME, L[1], L[2], str(i), N_POINT, mode_graphique, mode_information)"
   ]
  },
  {
   "cell_type": "code",
   "execution_count": 5,
   "id": "bf3f92e7-3950-4eaf-9fe1-b5ae6e3ed385",
   "metadata": {},
   "outputs": [
    {
     "name": "stdout",
     "output_type": "stream",
     "text": [
      "+---------------------+------+--------+--------+---------+\n",
      "|         AMP         |  1   |   2    |   3    |    4    |\n",
      "+---------------------+------+--------+--------+---------+\n",
      "| ENERGIE ENTREE (mJ) | 0.1  |  26.3  | 1987.2 |  8048.3 |\n",
      "| ENERGIE SORTIE (mJ) | 26.3 | 1987.2 | 8048.3 | 88828.8 |\n",
      "+---------------------+------+--------+--------+---------+\n",
      "+-----------------------+--------+\n",
      "| PUISSANCE SORTIE (TW) | 2201.7 |\n",
      "+-----------------------+--------+\n",
      "|     OBJECTIF (TW)     |  352   |\n",
      "|       MARGE (%)       | 525.5  |\n",
      "+-----------------------+--------+\n"
     ]
    },
    {
     "data": {
      "text/plain": [
       "2201.7"
      ]
     },
     "execution_count": 5,
     "metadata": {},
     "output_type": "execute_result"
    }
   ],
   "source": [
    "bilan_puissance(FILE_NAME, mode_information, AMP_STAGES)"
   ]
  },
  {
   "cell_type": "code",
   "execution_count": 6,
   "id": "6200b4eb-40a8-480b-80a9-d0cdfe1e714b",
   "metadata": {},
   "outputs": [
    {
     "name": "stdout",
     "output_type": "stream",
     "text": [
      "RAS\n",
      "\n"
     ]
    },
    {
     "data": {
      "text/plain": [
       "False"
      ]
     },
     "execution_count": 6,
     "metadata": {},
     "output_type": "execute_result"
    }
   ],
   "source": [
    "verification(FILE_NAME, mode_information, AMP_STAGES)"
   ]
  },
  {
   "cell_type": "code",
   "execution_count": null,
   "id": "67b95ce6-53c0-4306-a737-74e2011ad2b5",
   "metadata": {},
   "outputs": [],
   "source": []
  }
 ],
 "metadata": {
  "kernelspec": {
   "display_name": "Python 3 (ipykernel)",
   "language": "python",
   "name": "python3"
  },
  "language_info": {
   "codemirror_mode": {
    "name": "ipython",
    "version": 3
   },
   "file_extension": ".py",
   "mimetype": "text/x-python",
   "name": "python",
   "nbconvert_exporter": "python",
   "pygments_lexer": "ipython3",
   "version": "3.9.1"
  }
 },
 "nbformat": 4,
 "nbformat_minor": 5
}
