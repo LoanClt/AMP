{
 "cells": [
  {
   "cell_type": "code",
   "execution_count": 1,
   "id": "f0401aab-f6e2-4776-ae93-729ddc99010a",
   "metadata": {},
   "outputs": [],
   "source": [
    "import numpy as np\n",
    "import pandas as pd\n",
    "import matplotlib.pyplot as plt\n",
    "import json\n",
    "from prettytable import PrettyTable\n",
    "import scipy\n",
    "\n",
    "from update_config import update_config, update_coef_profil, update_param, update_bilan, update_result\n",
    "from simu_AMP import simu_AMP1, simu_AMP, bilan_puissance\n",
    "from error_checker import verification\n",
    "from GUI import configEditor"
   ]
  },
  {
   "cell_type": "code",
   "execution_count": 2,
   "id": "a76647d2-2d2f-4844-9d5e-71ba39af198e",
   "metadata": {},
   "outputs": [],
   "source": [
    "FILE_NAME = \"MonteCarlo.json\"\n",
    "mode_graphique = True\n",
    "mode_information = True\n",
    "\n",
    "update_bilan(FILE_NAME, \"OBJECTIF\", 352)"
   ]
  },
  {
   "cell_type": "code",
   "execution_count": 4,
   "id": "ac6c4280-6726-43db-9a50-3d7b88448ac9",
   "metadata": {},
   "outputs": [],
   "source": [
    "for i in range(2):\n",
    "    data = update_config(FILE_NAME, \"AMP1\")\n",
    "    update_coef_profil(FILE_NAME)\n",
    "N_POINT = 200"
   ]
  },
  {
   "cell_type": "code",
   "execution_count": null,
   "id": "9b71a89c-a9a2-4739-8da2-b5fba25370da",
   "metadata": {},
   "outputs": [],
   "source": [
    "L = simu_AMP1(FILE_NAME, N_POINT, mode_graphique, mode_information)"
   ]
  },
  {
   "cell_type": "code",
   "execution_count": null,
   "id": "f62b1924-4689-42e3-b1e3-989295638dbb",
   "metadata": {},
   "outputs": [],
   "source": [
    "L = simu_AMP(FILE_NAME, L[1], L[2], \"2\", N_POINT, mode_graphique, mode_information)"
   ]
  },
  {
   "cell_type": "code",
   "execution_count": null,
   "id": "fcc58d3e-ccb1-4b4d-be79-f748ba17cb14",
   "metadata": {
    "scrolled": true
   },
   "outputs": [],
   "source": [
    "L = simu_AMP(FILE_NAME, L[1], L[2], \"3\", N_POINT, mode_graphique, mode_information)"
   ]
  },
  {
   "cell_type": "code",
   "execution_count": 8,
   "id": "bf3f92e7-3950-4eaf-9fe1-b5ae6e3ed385",
   "metadata": {},
   "outputs": [
    {
     "name": "stdout",
     "output_type": "stream",
     "text": [
      "+-----------------------+-------+\n",
      "| PUISSANCE SORTIE (TW) | 364.1 |\n",
      "+-----------------------+-------+\n",
      "|     OBJECTIF (TW)     |  352  |\n",
      "|       MARGE (%)       |  3.4  |\n",
      "+-----------------------+-------+\n"
     ]
    },
    {
     "data": {
      "text/plain": [
       "364.1"
      ]
     },
     "execution_count": 8,
     "metadata": {},
     "output_type": "execute_result"
    }
   ],
   "source": [
    "bilan_puissance(FILE_NAME, mode_information)"
   ]
  },
  {
   "cell_type": "code",
   "execution_count": 9,
   "id": "6200b4eb-40a8-480b-80a9-d0cdfe1e714b",
   "metadata": {},
   "outputs": [
    {
     "name": "stdout",
     "output_type": "stream",
     "text": [
      "RAS\n"
     ]
    },
    {
     "data": {
      "text/plain": [
       "False"
      ]
     },
     "execution_count": 9,
     "metadata": {},
     "output_type": "execute_result"
    }
   ],
   "source": [
    "verification(FILE_NAME, mode_information)"
   ]
  },
  {
   "cell_type": "code",
   "execution_count": null,
   "id": "67b95ce6-53c0-4306-a737-74e2011ad2b5",
   "metadata": {},
   "outputs": [],
   "source": []
  }
 ],
 "metadata": {
  "kernelspec": {
   "display_name": "Python 3 (ipykernel)",
   "language": "python",
   "name": "python3"
  },
  "language_info": {
   "codemirror_mode": {
    "name": "ipython",
    "version": 3
   },
   "file_extension": ".py",
   "mimetype": "text/x-python",
   "name": "python",
   "nbconvert_exporter": "python",
   "pygments_lexer": "ipython3",
   "version": "3.12.1"
  }
 },
 "nbformat": 4,
 "nbformat_minor": 5
}
