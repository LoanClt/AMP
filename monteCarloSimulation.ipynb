{
 "cells": [
  {
   "cell_type": "code",
   "execution_count": 1,
   "id": "f0401aab-f6e2-4776-ae93-729ddc99010a",
   "metadata": {},
   "outputs": [],
   "source": [
    "import numpy as np\n",
    "import pandas as pd\n",
    "import matplotlib.pyplot as plt\n",
    "import json\n",
    "from prettytable import PrettyTable\n",
    "import scipy\n",
    "\n",
    "from update_config import update_bilan\n",
    "from monteCarlo import montecarlo_simu"
   ]
  },
  {
   "cell_type": "code",
   "execution_count": null,
   "id": "a76647d2-2d2f-4844-9d5e-71ba39af198e",
   "metadata": {},
   "outputs": [],
   "source": [
    "FILE_NAME = \"montecarlo.json\"\n",
    "mode_graphique = True\n",
    "mode_information = True\n",
    "\n",
    "update_bilan(FILE_NAME, \"OBJECTIF\", 350)\n",
    "ENERGIE_POMPE = 40000 #mJ\n",
    "AMP2_FAISCEAU_DIAMETRE_RANGE = [16, 18]\n",
    "AMP3_FAISCEAU_DIAMETRE_RANGE = [39, 41]\n",
    "\n",
    "STEP = 0.5 #Pas entre chaque diamètre\n",
    "N_POINT = 200\n",
    "ITERATIONS = 200 #Par paramètres"
   ]
  },
  {
   "cell_type": "code",
   "execution_count": null,
   "id": "67b95ce6-53c0-4306-a737-74e2011ad2b5",
   "metadata": {},
   "outputs": [],
   "source": [
    "montecarlo_simu(FILE_NAME, N_POINT, ITERATIONS, STEP, ENERGIE_POMPE, AMP2_FAISCEAU_DIAMETRE_RANGE, AMP3_FAISCEAU_DIAMETRE_RANGE)"
   ]
  }
 ],
 "metadata": {
  "kernelspec": {
   "display_name": "Python 3 (ipykernel)",
   "language": "python",
   "name": "python3"
  },
  "language_info": {
   "codemirror_mode": {
    "name": "ipython",
    "version": 3
   },
   "file_extension": ".py",
   "mimetype": "text/x-python",
   "name": "python",
   "nbconvert_exporter": "python",
   "pygments_lexer": "ipython3",
   "version": "3.9.1"
  }
 },
 "nbformat": 4,
 "nbformat_minor": 5
}
